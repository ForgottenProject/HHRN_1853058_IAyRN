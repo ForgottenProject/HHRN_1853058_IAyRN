{
  "nbformat": 4,
  "nbformat_minor": 0,
  "metadata": {
    "colab": {
      "provenance": [],
      "collapsed_sections": [],
      "authorship_tag": "ABX9TyNtb6BluZU2o0+iVOsKiHKd",
      "include_colab_link": true
    },
    "kernelspec": {
      "name": "python3",
      "display_name": "Python 3"
    },
    "language_info": {
      "name": "python"
    }
  },
  "cells": [
    {
      "cell_type": "markdown",
      "metadata": {
        "id": "view-in-github",
        "colab_type": "text"
      },
      "source": [
        "<a href=\"https://colab.research.google.com/github/ForgottenProject/HHRN_1853058_IAyRN/blob/main/IA_Ejercicio1_HHRN_1853058.ipynb\" target=\"_parent\"><img src=\"https://colab.research.google.com/assets/colab-badge.svg\" alt=\"Open In Colab\"/></a>"
      ]
    },
    {
      "cell_type": "markdown",
      "source": [],
      "metadata": {
        "id": "_h99bLyrrW-1"
      }
    },
    {
      "cell_type": "markdown",
      "source": [
        "# **Actividad 2 : Ejercicios en Python**\n",
        "\n",
        "Héctor Hugo Rasgado Nolasco - 1853058 - Sabatino N1\n",
        "\n",
        "\n",
        "\n",
        "---\n",
        "\n",
        "\n",
        "\n",
        "\n",
        "\n",
        "\n",
        "\n",
        "\n",
        "\n"
      ],
      "metadata": {
        "id": "G8uu6zlGrcNz"
      }
    },
    {
      "cell_type": "markdown",
      "source": [
        "# **Ejercicio 1**\n",
        "Escribe un programa que le pida al usuario por su nombre y que lo salude con su nombre, excepto si se llama “Ana”, “Juan”, y “Pedro”."
      ],
      "metadata": {
        "id": "U-AosYcMt-Vd"
      }
    },
    {
      "cell_type": "code",
      "source": [
        "nombre = input(\"Bienvenido, para comenzar, introduzca su nombre:\")\n",
        "if nombre == \"Ana\": \n",
        "  print(\"No admitida\")\n",
        "elif nombre == \"Pedro\":\n",
        "  print(\"No admitido\") \n",
        "elif nombre == \"Juan\":\n",
        "  print(\"No admitido\")\n",
        "\n",
        "else: \n",
        "  print(\"Hola\" + \" \" + nombre + \", Disfruta del lugar\")   "
      ],
      "metadata": {
        "colab": {
          "base_uri": "https://localhost:8080/"
        },
        "id": "gMqa4iPQ48qr",
        "outputId": "e9f83104-077e-4ff9-99ea-4f9781a7943a"
      },
      "execution_count": 28,
      "outputs": [
        {
          "output_type": "stream",
          "name": "stdout",
          "text": [
            "Bienvenido, para comenzar, introduzca su nombre:Héctor\n",
            "Hola Héctor, Disfruta del lugar\n"
          ]
        }
      ]
    },
    {
      "cell_type": "markdown",
      "source": [
        "# **Ejercicio 2**\n",
        "\n",
        "Escribe una función que regrese el último elemento de una lista y que revierta el orden de la lista e imprima la lista revertida. "
      ],
      "metadata": {
        "id": "vER70-C07Wq0"
      }
    },
    {
      "cell_type": "code",
      "source": [
        "def funcion(lista):\n",
        "  print(\"Lista revertida\")\n",
        "  for revertida in reversed(lista):\n",
        "    print(revertida)\n",
        "\n",
        "  print(\"Ultimo elemento de la lista\")\n",
        "  print(lista[-1]) \n",
        "\n",
        "Resultado = input(\"Introduzca su lista: \")\n",
        "\n",
        "funcion(Resultado)\n",
        " \n",
        "\n",
        " \n"
      ],
      "metadata": {
        "colab": {
          "base_uri": "https://localhost:8080/"
        },
        "id": "ca4vF-FD7qkC",
        "outputId": "038df3ac-0097-4d38-b77e-d77bfafed4dc"
      },
      "execution_count": 30,
      "outputs": [
        {
          "output_type": "stream",
          "name": "stdout",
          "text": [
            "Introduzca su lista: 1 2 3 4 5 6 7 8 9\n",
            "Lista revertida\n",
            "9\n",
            " \n",
            "8\n",
            " \n",
            "7\n",
            " \n",
            "6\n",
            " \n",
            "5\n",
            " \n",
            "4\n",
            " \n",
            "3\n",
            " \n",
            "2\n",
            " \n",
            "1\n",
            "Ultimo elemento de la lista\n",
            "9\n"
          ]
        }
      ]
    },
    {
      "cell_type": "markdown",
      "source": [
        "# **Ejercicio 3**\n",
        "\n",
        "Escribe una función que toma una lista de strings y los imprima línea por línea en un marco rectangular. "
      ],
      "metadata": {
        "id": "DmBPUgwD-Zp5"
      }
    },
    {
      "cell_type": "code",
      "source": [
        "def funcion(lista):\n",
        "  print(\"____________\")\n",
        "  for palabras in (lista):  \n",
        "    print( \"|\", palabras, \"|\")\n",
        "lista = [\"You\", \"Should\", \"Be\", \"A\", \"Monster\"]\n",
        "\n",
        "funcion(lista)\n",
        "print(\"____________\")"
      ],
      "metadata": {
        "id": "BM10s2q4-sIq",
        "colab": {
          "base_uri": "https://localhost:8080/"
        },
        "outputId": "4d84a0dc-77e1-466a-f511-53e2a55c1926"
      },
      "execution_count": 31,
      "outputs": [
        {
          "output_type": "stream",
          "name": "stdout",
          "text": [
            "____________\n",
            "| You |\n",
            "| Should |\n",
            "| Be |\n",
            "| A |\n",
            "| Monster |\n",
            "____________\n"
          ]
        }
      ]
    }
  ]
}