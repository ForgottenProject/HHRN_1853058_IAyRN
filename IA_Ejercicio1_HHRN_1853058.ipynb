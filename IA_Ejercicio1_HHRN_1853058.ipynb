{
  "nbformat": 4,
  "nbformat_minor": 0,
  "metadata": {
    "colab": {
      "provenance": [],
      "collapsed_sections": [
        "U-AosYcMt-Vd",
        "vER70-C07Wq0",
        "DmBPUgwD-Zp5"
      ],
      "authorship_tag": "ABX9TyNtb6BluZU2o0+iVOsKiHKd",
      "include_colab_link": true
    },
    "kernelspec": {
      "name": "python3",
      "display_name": "Python 3"
    },
    "language_info": {
      "name": "python"
    }
  },
  "cells": [
    {
      "cell_type": "markdown",
      "metadata": {
        "id": "view-in-github",
        "colab_type": "text"
      },
      "source": [
        "<a href=\"https://colab.research.google.com/github/ForgottenProject/HHRN_1853058_IAyRN/blob/main/IA_Ejercicio1_HHRN_1853058.ipynb\" target=\"_parent\"><img src=\"https://colab.research.google.com/assets/colab-badge.svg\" alt=\"Open In Colab\"/></a>"
      ]
    },
    {
      "cell_type": "markdown",
      "source": [],
      "metadata": {
        "id": "_h99bLyrrW-1"
      }
    },
    {
      "cell_type": "markdown",
      "source": [
        "# **Actividad 2 : Ejercicios en Python**\n",
        "\n",
        "Héctor Hugo Rasgado Nolasco - 1853058 - Sabatino N1\n",
        "\n",
        "\n",
        "\n",
        "---\n",
        "\n",
        "\n",
        "\n",
        "\n",
        "\n",
        "\n",
        "\n",
        "\n",
        "\n"
      ],
      "metadata": {
        "id": "G8uu6zlGrcNz"
      }
    },
    {
      "cell_type": "markdown",
      "source": [
        "# **Ejercicio 1**\n",
        "Escribe un programa que le pida al usuario por su nombre y que lo salude con su nombre, excepto si se llama “Ana”, “Juan”, y “Pedro”."
      ],
      "metadata": {
        "id": "U-AosYcMt-Vd"
      }
    },
    {
      "cell_type": "code",
      "source": [
        "nombre = input(\"Bienvenido, para comenzar, introduzca su nombre:\")\n",
        "if nombre == \"Ana\": \n",
        "  print(\"No admitida\")\n",
        "elif nombre == \"Pedro\":\n",
        "  print(\"No admitido\") \n",
        "elif nombre == \"Juan\":\n",
        "  print(\"No admitido\")\n",
        "\n",
        "else: \n",
        "  print(\"Hola\" + \" \" + nombre + \", Disfruta del lugar\")   "
      ],
      "metadata": {
        "colab": {
          "base_uri": "https://localhost:8080/"
        },
        "id": "gMqa4iPQ48qr",
        "outputId": "003e0d2d-682a-433f-edaa-a385e946ad76"
      },
      "execution_count": null,
      "outputs": [
        {
          "output_type": "stream",
          "name": "stdout",
          "text": [
            "Bienvenido, para comenzar, introduzca su nombre:Hola\n",
            "Hola Hola, Disfruta del lugar\n"
          ]
        }
      ]
    },
    {
      "cell_type": "markdown",
      "source": [
        "# **Ejercicio 2**\n",
        "\n",
        "Escribe una función que regrese el último elemento de una lista y que revierta el orden de la lista e imprima la lista revertida. "
      ],
      "metadata": {
        "id": "vER70-C07Wq0"
      }
    },
    {
      "cell_type": "code",
      "source": [
        "def funcion(lista):\n",
        "  print(\"Lista revertida\")\n",
        "  for revertida in reversed(lista):\n",
        "    print(revertida)\n",
        "\n",
        "  print(\"Ultimo elemento de la lista\")\n",
        "  print(lista[-1]) \n",
        "\n",
        "Resultado = input(\"Introduzca su lista: \")\n",
        "\n",
        "funcion(Resultado)\n",
        " \n",
        "\n",
        " \n"
      ],
      "metadata": {
        "colab": {
          "base_uri": "https://localhost:8080/"
        },
        "id": "ca4vF-FD7qkC",
        "outputId": "002a901d-0f0b-4dbc-f5a7-2a18982013ff"
      },
      "execution_count": null,
      "outputs": [
        {
          "output_type": "stream",
          "name": "stdout",
          "text": [
            "Introduzca su lista: 1 8 6 4 7\n",
            "Lista revertida\n",
            "7\n",
            " \n",
            "4\n",
            " \n",
            "6\n",
            " \n",
            "8\n",
            " \n",
            "1\n",
            "Ultimo elemento de la lista\n",
            "7\n"
          ]
        }
      ]
    },
    {
      "cell_type": "markdown",
      "source": [
        "# **Ejercicio 3**\n",
        "\n",
        "Escribe una función que toma una lista de strings y los imprima línea por línea en un marco rectangular. "
      ],
      "metadata": {
        "id": "DmBPUgwD-Zp5"
      }
    },
    {
      "cell_type": "code",
      "source": [
        "def funcion(lista):\n",
        "  print(\"____________\")\n",
        "  for palabras in (lista):  \n",
        "    print( \"|\", palabras, \"|\")\n",
        "lista = [\"You\", \"Should\", \"Be\", \"A\", \"Monster\"]\n",
        "\n",
        "funcion(lista)\n",
        "print(\"____________\")"
      ],
      "metadata": {
        "id": "BM10s2q4-sIq",
        "colab": {
          "base_uri": "https://localhost:8080/"
        },
        "outputId": "39a5f998-ba25-483e-e2ac-2de1fbf7abb0"
      },
      "execution_count": 27,
      "outputs": [
        {
          "output_type": "stream",
          "name": "stdout",
          "text": [
            "____________\n",
            "| You |\n",
            "| Should |\n",
            "| Be |\n",
            "| A |\n",
            "| Monster |\n",
            "____________\n"
          ]
        }
      ]
    }
  ]
}